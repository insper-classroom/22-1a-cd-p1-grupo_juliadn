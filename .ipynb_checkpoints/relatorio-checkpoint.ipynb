{
 "cells": [
  {
   "cell_type": "markdown",
   "metadata": {},
   "source": [
    "# Projeto 1 - Ciência dos Dados"
   ]
  },
  {
   "cell_type": "markdown",
   "metadata": {},
   "source": [
    "### Participantes:"
   ]
  },
  {
   "cell_type": "markdown",
   "metadata": {},
   "source": [
    "Nome: Julia Diniz do Nascimento\n",
    "\n",
    "Nome: Luca Mizrahi"
   ]
  },
  {
   "cell_type": "markdown",
   "metadata": {},
   "source": [
    "## Carregando bibliotecas:"
   ]
  },
  {
   "cell_type": "code",
   "execution_count": 137,
   "metadata": {},
   "outputs": [],
   "source": [
    "%matplotlib inline\n",
    "import pandas as pd\n",
    "import matplotlib.pyplot as plt\n",
    "import numpy as np\n",
    "import os\n",
    "import re\n",
    "#nltk.download()\n",
    "import nltk\n",
    "from sklearn.model_selection import train_test_split\n",
    "import warnings\n",
    "warnings.filterwarnings('ignore')"
   ]
  },
  {
   "cell_type": "code",
   "execution_count": 138,
   "metadata": {
    "scrolled": true
   },
   "outputs": [
    {
     "name": "stdout",
     "output_type": "stream",
     "text": [
      "Esperamos trabalhar no diretório\n",
      "C:\\Users\\julia\\OneDrive - Insper - Institudo de Ensino e Pesquisa\\Documentos\\2 - CDados\\Projeto1\\22-1a-cd-p1-grupo_juliadn\n"
     ]
    }
   ],
   "source": [
    "print('Esperamos trabalhar no diretório')\n",
    "print(os.getcwd())"
   ]
  },
  {
   "cell_type": "markdown",
   "metadata": {},
   "source": [
    "## Definindo funções importantes:"
   ]
  },
  {
   "cell_type": "code",
   "execution_count": 139,
   "metadata": {},
   "outputs": [],
   "source": [
    "def cleanup(text):\n",
    "    punctuation = '[!-.:?;()\"''@/\\%$&<>,*]'\n",
    "    pattern = re.compile(punctuation)\n",
    "    text_subbed = re.sub(pattern, '', text)\n",
    "    return text_subbed.lower()\n",
    "\n",
    "def stopwords(list_of_words):\n",
    "    stopwords = nltk.corpus.stopwords.words('portuguese')\n",
    "    lista_filtrada = []\n",
    "    for word in list_of_words:\n",
    "        if word not in stopwords:\n",
    "            lista_filtrada.append(word)\n",
    "    return lista_filtrada\n",
    "\n",
    "def laplace(palavra, tabela_abs, tabela_abs_total):\n",
    "    if palavra not in tabela_abs:\n",
    "        prob_palavra_dado_categoria = 1 / ( len(tabela_abs_total) + sum(tabela_abs) )\n",
    "    else: \n",
    "        prob_palavra_dado_categoria = ( tabela_abs[palavra] + 1 ) / ( len(tabela_abs_total) + sum(tabela_abs) )\n",
    "    \n",
    "    return prob_palavra_dado_categoria"
   ]
  },
  {
   "cell_type": "markdown",
   "metadata": {},
   "source": [
    "## Classificador automático"
   ]
  },
  {
   "cell_type": "markdown",
   "metadata": {},
   "source": [
    "**Faça aqui uma descrição do seu assunto e o que considerou como positivo ou negativo ou neutro na classificação das notícias (Target).**\n",
    "\n",
    "O nosso assunto selecionado foi o Itaú e o que foi considerado como positivo para a a classicação foram notícias que relatam resultados positivos da Ibovespa, que é onde as ações do banco Itaú estão listadas(ITUB4), além de notícias positivas ligadas aos grandes bancos brasileiros e suas performances, assim como ações do itaú que trouxeram resultados positivos, ou imagem positiva para a companhia. Já de neutro entraram atualizações de portfólio de investimento que não especificavam o Itaú, assim como divulgação de resultado de outras empresas, principalmente de empresas que não estão no setor financeiro, além de notícias sobre o cenário internacional que a princípio não impactam o Itaú. Por fim, como negativo foram classificados que traziam problemas que estavam sendo enfrentados no cenário nacional, principalmente no setor financeiro, quedas da Ibovespa, sugestões de investimento que iam contra a compra de ações do itaú, acontecimentos que afetavam a imagem do itaú de forma negativa, expansão de concorrentes do setor financeiro (C6, Nubank) e também divulgação de resultados negativos por parte do itaú, ou do setor financeiro como um todo."
   ]
  },
  {
   "cell_type": "markdown",
   "metadata": {},
   "source": [
    "## Carregando Base de Dados:"
   ]
  },
  {
   "cell_type": "code",
   "execution_count": 140,
   "metadata": {},
   "outputs": [],
   "source": [
    "filename = 'dados.xlsx'\n",
    "train = pd.read_excel(filename, sheet_name = 'Treinamento')\n",
    "test = pd.read_excel(filename, sheet_name = 'Teste')"
   ]
  },
  {
   "cell_type": "markdown",
   "metadata": {},
   "source": [
    "## Definindo Targets:"
   ]
  },
  {
   "cell_type": "code",
   "execution_count": 141,
   "metadata": {},
   "outputs": [],
   "source": [
    "dados_positivo = train.loc[ train['Target']==2, ['Titulo','PrimeiroParag'] ]\n",
    "dados_neutro = train.loc[ train['Target']==1, ['Titulo','PrimeiroParag'] ]\n",
    "dados_negativo = train.loc[ train['Target']==0, ['Titulo','PrimeiroParag'] ]"
   ]
  },
  {
   "cell_type": "markdown",
   "metadata": {},
   "source": [
    "## Títulos da Base de Treinamento"
   ]
  },
  {
   "cell_type": "code",
   "execution_count": 142,
   "metadata": {},
   "outputs": [],
   "source": [
    "#títulos positivos\n",
    "titulo_p = dados_positivo['Titulo']\n",
    "txt_positivo = ''\n",
    "for frase in titulo_p:\n",
    "    txt_positivo += cleanup(frase) + ' ' \n",
    "\n",
    "#títulos neutros\n",
    "titulo_neg=dados_negativo['Titulo']\n",
    "txt_negativo = ''\n",
    "for frase in titulo_neg:\n",
    "    txt_negativo += cleanup(frase) + ' '\n",
    "    \n",
    "#títulos negativos\n",
    "titulo_n=dados_neutro['Titulo']\n",
    "txt_neutro = ''\n",
    "for frase in titulo_n:\n",
    "    txt_neutro += cleanup(frase) + ' '     \n"
   ]
  },
  {
   "cell_type": "markdown",
   "metadata": {},
   "source": [
    "## Contruindo tabelas de frequências relativas e absolutas:"
   ]
  },
  {
   "cell_type": "code",
   "execution_count": 143,
   "metadata": {},
   "outputs": [],
   "source": [
    "#target positivo\n",
    "\n",
    "todas_palavras_positivo = stopwords(txt_positivo.split())\n",
    "serie_p = pd.Series(todas_palavras_positivo)\n",
    "\n",
    "#frequência relativa\n",
    "tabela_p = serie_p.value_counts(True)\n",
    "#frequência absoluta\n",
    "tabela_p_abs = serie_p.value_counts()\n",
    "\n",
    "#target neutro\n",
    "\n",
    "todas_palavras_neutro = stopwords(txt_neutro.split())\n",
    "serie_n = pd.Series(todas_palavras_neutro)\n",
    "\n",
    "#frequência relativa\n",
    "tabela_n = serie_n.value_counts(True)\n",
    "#frequência absoluta\n",
    "tabela_n_abs = serie_n.value_counts()\n",
    "\n",
    "\n",
    "#target negativo\n",
    "\n",
    "todas_palavras_negativo = stopwords(txt_negativo.split())\n",
    "serie_neg = pd.Series(todas_palavras_negativo)\n",
    "\n",
    "#frequência relativa\n",
    "tabela_neg = serie_neg.value_counts(True)\n",
    "#frequência absoluta\n",
    "tabela_neg_abs = serie_neg.value_counts()"
   ]
  },
  {
   "cell_type": "markdown",
   "metadata": {},
   "source": [
    "## Conjunto de todas as palavras"
   ]
  },
  {
   "cell_type": "code",
   "execution_count": 144,
   "metadata": {},
   "outputs": [],
   "source": [
    "palavras = txt_positivo + txt_negativo + txt_neutro\n",
    "\n",
    "todas_palavras = stopwords(palavras.split())\n",
    "\n",
    "serie_total = pd.Series(todas_palavras)\n",
    "\n",
    "tabela_total = serie_total.value_counts(True)\n",
    "\n",
    "tabela_total_abs = serie_total.value_counts()"
   ]
  },
  {
   "cell_type": "markdown",
   "metadata": {},
   "source": [
    "## Probabilidades a priori"
   ]
  },
  {
   "cell_type": "code",
   "execution_count": 145,
   "metadata": {},
   "outputs": [
    {
     "name": "stdout",
     "output_type": "stream",
     "text": [
      "0.9999999999999999\n"
     ]
    }
   ],
   "source": [
    "#positiva\n",
    "prob_p = len(todas_palavras_positivo)/len(todas_palavras)\n",
    "\n",
    "#neutra\n",
    "prob_n = len(todas_palavras_neutro)/len(todas_palavras)\n",
    "\n",
    "#negativa\n",
    "prob_neg = len(todas_palavras_negativo)/len(todas_palavras)\n",
    "\n",
    "print(prob_p + prob_n + prob_neg)"
   ]
  },
  {
   "cell_type": "markdown",
   "metadata": {},
   "source": [
    "## Função Classificadora:"
   ]
  },
  {
   "cell_type": "code",
   "execution_count": 146,
   "metadata": {},
   "outputs": [],
   "source": [
    "def classificador(test):    \n",
    "    lista_classificacao = []\n",
    "    for noticia in test.Titulo:\n",
    "\n",
    "        noticia = cleanup(noticia)\n",
    "        palavras = stopwords(noticia.split())\n",
    "\n",
    "        prob_n_dado_noticia = 1\n",
    "        prob_p_dado_noticia = 1\n",
    "        prob_neg_dado_noticia = 1\n",
    "\n",
    "        #repetidor para utilizar a função laplace em todas as palavras do título\n",
    "        for palavra in palavras:\n",
    "            prob_p_dado_noticia = prob_p_dado_noticia * laplace(palavra, tabela_p_abs, tabela_total)\n",
    "\n",
    "            prob_n_dado_noticia = prob_n_dado_noticia * laplace(palavra, tabela_n_abs, tabela_total)\n",
    "\n",
    "            prob_neg_dado_noticia = prob_neg_dado_noticia * laplace(palavra, tabela_neg_abs, tabela_total)\n",
    "\n",
    "        #multiplicação das probabilidades a priori\n",
    "        prob_p_dado_noticia *= prob_p\n",
    "\n",
    "        prob_n_dado_noticia *= prob_n\n",
    "\n",
    "        prob_neg_dado_noticia *= prob_neg\n",
    "\n",
    "\n",
    "        #condições para classificação das probabilidades calculadas anteriormente\n",
    "        if prob_neg_dado_noticia > prob_n_dado_noticia and prob_neg_dado_noticia > prob_p_dado_noticia:\n",
    "            lista_classificacao.append('Negativo')\n",
    "        elif prob_n_dado_noticia > prob_neg_dado_noticia and prob_n_dado_noticia > prob_p_dado_noticia:\n",
    "            lista_classificacao.append('Neutra')\n",
    "        elif prob_p_dado_noticia > prob_neg_dado_noticia and prob_p_dado_noticia > prob_n_dado_noticia:\n",
    "            lista_classificacao.append('Positivo')\n",
    "\n",
    "    #Adicionando a lista de classificação no dataframe, com uma coluna nova chamada 'Classificado_titulo'\n",
    "    classificacao = pd.Series(lista_classificacao)\n",
    "    test['Classificado_titulo'] = classificacao\n",
    "    return test"
   ]
  },
  {
   "cell_type": "markdown",
   "metadata": {},
   "source": [
    "## Testando a performance do classificador:"
   ]
  },
  {
   "cell_type": "code",
   "execution_count": 156,
   "metadata": {
    "scrolled": true
   },
   "outputs": [
    {
     "data": {
      "text/html": [
       "<div>\n",
       "<style scoped>\n",
       "    .dataframe tbody tr th:only-of-type {\n",
       "        vertical-align: middle;\n",
       "    }\n",
       "\n",
       "    .dataframe tbody tr th {\n",
       "        vertical-align: top;\n",
       "    }\n",
       "\n",
       "    .dataframe thead th {\n",
       "        text-align: right;\n",
       "    }\n",
       "</style>\n",
       "<table border=\"1\" class=\"dataframe\">\n",
       "  <thead>\n",
       "    <tr style=\"text-align: right;\">\n",
       "      <th></th>\n",
       "      <th>Categoria</th>\n",
       "      <th>Titulo</th>\n",
       "      <th>PrimeiroParag</th>\n",
       "      <th>Data</th>\n",
       "      <th>Pagina</th>\n",
       "      <th>Target</th>\n",
       "      <th>Classificado_titulo</th>\n",
       "    </tr>\n",
       "  </thead>\n",
       "  <tbody>\n",
       "    <tr>\n",
       "      <th>0</th>\n",
       "      <td>Carteira Recomendada</td>\n",
       "      <td>Dividendos: Bradesco (BBDC4), Vale (VALE3)… 10...</td>\n",
       "      <td>O Safra manteve sua carteira recomendada de di...</td>\n",
       "      <td>02/03/2022 - 9:02</td>\n",
       "      <td>4</td>\n",
       "      <td>2</td>\n",
       "      <td>Positivo</td>\n",
       "    </tr>\n",
       "    <tr>\n",
       "      <th>1</th>\n",
       "      <td>Comprar ou vender?</td>\n",
       "      <td>Bradesco BBI corta recomendação de Banco Pan (...</td>\n",
       "      <td>O Bradesco BBI cortou a recomendação do Banco ...</td>\n",
       "      <td>01/02/2022 - 11:07</td>\n",
       "      <td>16</td>\n",
       "      <td>2</td>\n",
       "      <td>Positivo</td>\n",
       "    </tr>\n",
       "    <tr>\n",
       "      <th>2</th>\n",
       "      <td>Comprar ou vender?</td>\n",
       "      <td>Itaú, Bradesco ou Banco do Brasil? As 3 ações ...</td>\n",
       "      <td>O Bank of America (BofA) aproveitou a divulgaç...</td>\n",
       "      <td>16/08/2021 - 15:30</td>\n",
       "      <td>54</td>\n",
       "      <td>2</td>\n",
       "      <td>Neutra</td>\n",
       "    </tr>\n",
       "    <tr>\n",
       "      <th>3</th>\n",
       "      <td>Mercados</td>\n",
       "      <td>Ibovespa avança 1% puxado por Vale e TIM sobe ...</td>\n",
       "      <td>O Ibovespa subia cerca de 1% nesta segunda-fei...</td>\n",
       "      <td>22/11/2021 - 12:17</td>\n",
       "      <td>32</td>\n",
       "      <td>1</td>\n",
       "      <td>Positivo</td>\n",
       "    </tr>\n",
       "    <tr>\n",
       "      <th>4</th>\n",
       "      <td>Mercados</td>\n",
       "      <td>Ibovespa recua com ajustes após série de altas...</td>\n",
       "      <td>O Ibovespa recuava nesta segunda-feira, em mei...</td>\n",
       "      <td>07/06/2021 - 11:57</td>\n",
       "      <td>69</td>\n",
       "      <td>1</td>\n",
       "      <td>Negativo</td>\n",
       "    </tr>\n",
       "    <tr>\n",
       "      <th>...</th>\n",
       "      <td>...</td>\n",
       "      <td>...</td>\n",
       "      <td>...</td>\n",
       "      <td>...</td>\n",
       "      <td>...</td>\n",
       "      <td>...</td>\n",
       "      <td>...</td>\n",
       "    </tr>\n",
       "    <tr>\n",
       "      <th>295</th>\n",
       "      <td>Mercados</td>\n",
       "      <td>Dólar fecha em queda de 1,08%, a R$ 5,2554</td>\n",
       "      <td>O dólar fechou no menor patamar em mais de dua...</td>\n",
       "      <td>27/05/2021 - 17:09</td>\n",
       "      <td>72</td>\n",
       "      <td>2</td>\n",
       "      <td>Negativo</td>\n",
       "    </tr>\n",
       "    <tr>\n",
       "      <th>296</th>\n",
       "      <td>Carteira Recomendada</td>\n",
       "      <td>Benndorf inclui 3 ações em portfólio para agosto</td>\n",
       "      <td>A consultoria de investimentos Benndorf Equity...</td>\n",
       "      <td>04/08/2021 - 23:05</td>\n",
       "      <td>56</td>\n",
       "      <td>1</td>\n",
       "      <td>Positivo</td>\n",
       "    </tr>\n",
       "    <tr>\n",
       "      <th>297</th>\n",
       "      <td>MT Labs</td>\n",
       "      <td>Em 26 anos, essas foram as ações que mais valo...</td>\n",
       "      <td>Ao longo de 26 anos, entre 1995 a 2021, movime...</td>\n",
       "      <td>27/01/2022 - 12:47</td>\n",
       "      <td>17</td>\n",
       "      <td>1</td>\n",
       "      <td>Positivo</td>\n",
       "    </tr>\n",
       "    <tr>\n",
       "      <th>298</th>\n",
       "      <td>Comprar ou vender?</td>\n",
       "      <td>Itaú (ITUB4), Eletrobras (ELET3) e outras açõe...</td>\n",
       "      <td>Se o BTG Pactual (BPAC11) e a Ágora Investimen...</td>\n",
       "      <td>08/03/2022 - 9:16</td>\n",
       "      <td>1</td>\n",
       "      <td>2</td>\n",
       "      <td>Positivo</td>\n",
       "    </tr>\n",
       "    <tr>\n",
       "      <th>299</th>\n",
       "      <td>Carteira Recomendada</td>\n",
       "      <td>China perde espaço para Brasil em carteira glo...</td>\n",
       "      <td>O Banco Safra reforçou o peso de ações brasile...</td>\n",
       "      <td>05/07/2021 - 9:32</td>\n",
       "      <td>63</td>\n",
       "      <td>1</td>\n",
       "      <td>Positivo</td>\n",
       "    </tr>\n",
       "  </tbody>\n",
       "</table>\n",
       "<p>300 rows × 7 columns</p>\n",
       "</div>"
      ],
      "text/plain": [
       "                 Categoria                                             Titulo  \\\n",
       "0    Carteira Recomendada   Dividendos: Bradesco (BBDC4), Vale (VALE3)… 10...   \n",
       "1      Comprar ou vender?   Bradesco BBI corta recomendação de Banco Pan (...   \n",
       "2      Comprar ou vender?   Itaú, Bradesco ou Banco do Brasil? As 3 ações ...   \n",
       "3                Mercados   Ibovespa avança 1% puxado por Vale e TIM sobe ...   \n",
       "4                Mercados   Ibovespa recua com ajustes após série de altas...   \n",
       "..                     ...                                                ...   \n",
       "295              Mercados          Dólar fecha em queda de 1,08%, a R$ 5,2554   \n",
       "296  Carteira Recomendada    Benndorf inclui 3 ações em portfólio para agosto   \n",
       "297                MT Labs  Em 26 anos, essas foram as ações que mais valo...   \n",
       "298    Comprar ou vender?   Itaú (ITUB4), Eletrobras (ELET3) e outras açõe...   \n",
       "299  Carteira Recomendada   China perde espaço para Brasil em carteira glo...   \n",
       "\n",
       "                                         PrimeiroParag                Data  \\\n",
       "0    O Safra manteve sua carteira recomendada de di...   02/03/2022 - 9:02   \n",
       "1    O Bradesco BBI cortou a recomendação do Banco ...  01/02/2022 - 11:07   \n",
       "2    O Bank of America (BofA) aproveitou a divulgaç...  16/08/2021 - 15:30   \n",
       "3    O Ibovespa subia cerca de 1% nesta segunda-fei...  22/11/2021 - 12:17   \n",
       "4    O Ibovespa recuava nesta segunda-feira, em mei...  07/06/2021 - 11:57   \n",
       "..                                                 ...                 ...   \n",
       "295  O dólar fechou no menor patamar em mais de dua...  27/05/2021 - 17:09   \n",
       "296  A consultoria de investimentos Benndorf Equity...  04/08/2021 - 23:05   \n",
       "297  Ao longo de 26 anos, entre 1995 a 2021, movime...  27/01/2022 - 12:47   \n",
       "298  Se o BTG Pactual (BPAC11) e a Ágora Investimen...   08/03/2022 - 9:16   \n",
       "299  O Banco Safra reforçou o peso de ações brasile...   05/07/2021 - 9:32   \n",
       "\n",
       "     Pagina  Target Classificado_titulo  \n",
       "0         4       2            Positivo  \n",
       "1        16       2            Positivo  \n",
       "2        54       2              Neutra  \n",
       "3        32       1            Positivo  \n",
       "4        69       1            Negativo  \n",
       "..      ...     ...                 ...  \n",
       "295      72       2            Negativo  \n",
       "296      56       1            Positivo  \n",
       "297      17       1            Positivo  \n",
       "298       1       2            Positivo  \n",
       "299      63       1            Positivo  \n",
       "\n",
       "[300 rows x 7 columns]"
      ]
     },
     "execution_count": 156,
     "metadata": {},
     "output_type": "execute_result"
    }
   ],
   "source": [
    "teste = classificador(test)\n",
    "teste"
   ]
  },
  {
   "cell_type": "markdown",
   "metadata": {},
   "source": [
    "## Análise da eficácia:"
   ]
  },
  {
   "cell_type": "markdown",
   "metadata": {},
   "source": [
    "### Frequência absoluta:"
   ]
  },
  {
   "cell_type": "code",
   "execution_count": 148,
   "metadata": {
    "scrolled": false
   },
   "outputs": [
    {
     "data": {
      "text/html": [
       "<div>\n",
       "<style scoped>\n",
       "    .dataframe tbody tr th:only-of-type {\n",
       "        vertical-align: middle;\n",
       "    }\n",
       "\n",
       "    .dataframe tbody tr th {\n",
       "        vertical-align: top;\n",
       "    }\n",
       "\n",
       "    .dataframe thead th {\n",
       "        text-align: right;\n",
       "    }\n",
       "</style>\n",
       "<table border=\"1\" class=\"dataframe\">\n",
       "  <thead>\n",
       "    <tr style=\"text-align: right;\">\n",
       "      <th>Classificado_titulo</th>\n",
       "      <th>Negativo</th>\n",
       "      <th>Neutra</th>\n",
       "      <th>Positivo</th>\n",
       "    </tr>\n",
       "    <tr>\n",
       "      <th>Target</th>\n",
       "      <th></th>\n",
       "      <th></th>\n",
       "      <th></th>\n",
       "    </tr>\n",
       "  </thead>\n",
       "  <tbody>\n",
       "    <tr>\n",
       "      <th>0</th>\n",
       "      <td>42</td>\n",
       "      <td>5</td>\n",
       "      <td>29</td>\n",
       "    </tr>\n",
       "    <tr>\n",
       "      <th>1</th>\n",
       "      <td>21</td>\n",
       "      <td>37</td>\n",
       "      <td>73</td>\n",
       "    </tr>\n",
       "    <tr>\n",
       "      <th>2</th>\n",
       "      <td>15</td>\n",
       "      <td>11</td>\n",
       "      <td>67</td>\n",
       "    </tr>\n",
       "  </tbody>\n",
       "</table>\n",
       "</div>"
      ],
      "text/plain": [
       "Classificado_titulo  Negativo  Neutra  Positivo\n",
       "Target                                         \n",
       "0                          42       5        29\n",
       "1                          21      37        73\n",
       "2                          15      11        67"
      ]
     },
     "execution_count": 148,
     "metadata": {},
     "output_type": "execute_result"
    }
   ],
   "source": [
    "tabela_abs = pd.crosstab(test['Target'], test['Classificado_titulo'])\n",
    "tabela_abs"
   ]
  },
  {
   "cell_type": "code",
   "execution_count": 149,
   "metadata": {
    "scrolled": true
   },
   "outputs": [
    {
     "name": "stdout",
     "output_type": "stream",
     "text": [
      "A acurácia do modelo é de 48.67%\n"
     ]
    }
   ],
   "source": [
    "efic_titulo = (tabela_abs.iloc[0,0] + tabela_abs.iloc[1,1] + tabela_abs.iloc[2,2])*100 / len(test)\n",
    "print(f'A acurácia do modelo é de {efic_titulo:.2f}%')"
   ]
  },
  {
   "cell_type": "markdown",
   "metadata": {},
   "source": [
    "### Frequência relativa:"
   ]
  },
  {
   "cell_type": "code",
   "execution_count": 150,
   "metadata": {
    "scrolled": true
   },
   "outputs": [
    {
     "data": {
      "text/html": [
       "<div>\n",
       "<style scoped>\n",
       "    .dataframe tbody tr th:only-of-type {\n",
       "        vertical-align: middle;\n",
       "    }\n",
       "\n",
       "    .dataframe tbody tr th {\n",
       "        vertical-align: top;\n",
       "    }\n",
       "\n",
       "    .dataframe thead th {\n",
       "        text-align: right;\n",
       "    }\n",
       "</style>\n",
       "<table border=\"1\" class=\"dataframe\">\n",
       "  <thead>\n",
       "    <tr style=\"text-align: right;\">\n",
       "      <th>Classificado_titulo</th>\n",
       "      <th>Negativo</th>\n",
       "      <th>Neutra</th>\n",
       "      <th>Positivo</th>\n",
       "    </tr>\n",
       "    <tr>\n",
       "      <th>Target</th>\n",
       "      <th></th>\n",
       "      <th></th>\n",
       "      <th></th>\n",
       "    </tr>\n",
       "  </thead>\n",
       "  <tbody>\n",
       "    <tr>\n",
       "      <th>0</th>\n",
       "      <td>0.5526</td>\n",
       "      <td>0.0658</td>\n",
       "      <td>0.3816</td>\n",
       "    </tr>\n",
       "    <tr>\n",
       "      <th>1</th>\n",
       "      <td>0.1603</td>\n",
       "      <td>0.2824</td>\n",
       "      <td>0.5573</td>\n",
       "    </tr>\n",
       "    <tr>\n",
       "      <th>2</th>\n",
       "      <td>0.1613</td>\n",
       "      <td>0.1183</td>\n",
       "      <td>0.7204</td>\n",
       "    </tr>\n",
       "  </tbody>\n",
       "</table>\n",
       "</div>"
      ],
      "text/plain": [
       "Classificado_titulo  Negativo  Neutra  Positivo\n",
       "Target                                         \n",
       "0                      0.5526  0.0658    0.3816\n",
       "1                      0.1603  0.2824    0.5573\n",
       "2                      0.1613  0.1183    0.7204"
      ]
     },
     "execution_count": 150,
     "metadata": {},
     "output_type": "execute_result"
    }
   ],
   "source": [
    "tabela = pd.crosstab(test['Target'], test['Classificado_titulo'], normalize = 'index').round(4)\n",
    "tabela"
   ]
  },
  {
   "cell_type": "code",
   "execution_count": 151,
   "metadata": {
    "scrolled": true
   },
   "outputs": [
    {
     "name": "stdout",
     "output_type": "stream",
     "text": [
      "A porcentagem de verdadeiros positivos é: 72.04%\n",
      "\n",
      "A porcentagem de falsos positivos é: 27.96%\n",
      "\n",
      "A porcentagem de verdadeiros negativos é: 55.26%\n",
      "\n",
      "A porcentagem de falsos negativos é: 44.74%\n",
      "\n",
      "A porcentagem de verdadeiros neutros é: 28.24%\n",
      "\n",
      "A porcentagem de falsos neutros é: 71.76%\n",
      "\n",
      "Portanto, a eficácia do classificador é de: 48.67%\n",
      "\n"
     ]
    }
   ],
   "source": [
    "verdadeiros_negativos = tabela.iloc[0,0]*100\n",
    "falsos_negativos = tabela.iloc[0,1]*100 + tabela.iloc[0,2]*100\n",
    "verdadeiros_neutros = tabela.iloc[1,1]*100\n",
    "falsos_neutros = tabela.iloc[1,0]*100 + tabela.iloc[1,2]*100\n",
    "verdadeiros_positivos = tabela.iloc[2,2]*100\n",
    "falsos_positivos = tabela.iloc[2,0]*100 + tabela.iloc[2,1]*100\n",
    "\n",
    "\n",
    "print('A porcentagem de verdadeiros positivos é: {:.2f}%\\n'.format(verdadeiros_positivos))\n",
    "print('A porcentagem de falsos positivos é: {:.2f}%\\n'.format(falsos_positivos))\n",
    "print('A porcentagem de verdadeiros negativos é: {:.2f}%\\n'.format(verdadeiros_negativos))\n",
    "print('A porcentagem de falsos negativos é: {:.2f}%\\n'.format(falsos_negativos))\n",
    "print('A porcentagem de verdadeiros neutros é: {:.2f}%\\n'.format(verdadeiros_neutros))\n",
    "print('A porcentagem de falsos neutros é: {:.2f}%\\n'.format(falsos_neutros))\n",
    "print('Portanto, a eficácia do classificador é de: {:.2f}%\\n'.format(efic_titulo))"
   ]
  },
  {
   "cell_type": "markdown",
   "metadata": {},
   "source": [
    "## Conclusão:"
   ]
  },
  {
   "cell_type": "markdown",
   "metadata": {},
   "source": [
    "#### Comparativo Qualitativo\n",
    "A partir da junção dos verdadeiros positivos, negativos e neutros, foi possível calcular a acurácia do nosso classificador, que foi de 48,67%. Ou seja, de um total de 100% de um conjunto de títulos de notícias, o classificador daria uma reposta satisfatória para aproximadamente metade dessas, o que resulta nosso classificador como satisfatório, já que o percentual de acerto do mesmo é superior a um chute aleatório dentre as 3 categorias do Target, que seria de 33%. Vale ressaltar que para a categoria de notícias neutras o classificador teve uma menor eficácia na classificação, acertando apenas 28,24% de todas as notícias classificadas como neutras. Já para as outras duas categorias, o desempenho foi satisfatório e superior a 50%. <br>\n",
    "    Em relação aos títulos com dupla negação e sarcasmo, o nosso classificador não consegue identificá-los, já que o modelo de Naive-Bayes que foi adotado parte da premissa que as palavras são independentes entre si, logo não é possível identificar sarcasmo ou dupla negação pois frases que tem as mesmas palavras são tratadas como semelhantes e a ordem como as palavras estão dispostas (como o sentido da frase é construído) é irrelevante para o classificador.\n",
    "\n",
    "\n",
    "#### Por qual motivo a base de treinamento não pode ser alimentada automaticamente pelo próprio classificador?\n",
    "Porque o classificador possui a ingenuidade de tratar as palavras como independentes, ou seja, quando chegam novas notícias, as novas palavras irão ser analisadas como se não sofressem influência das palavras anteriormente analisadas. Isso é um erro porque as palavras irão depender, tanto uma das outras, quanto da sequência em que são colocadas em uma frase. \n",
    "Por exemplo, a probabilidade da frase _\"ontem assisti uma aula de Ciência dos Dados\"_ ocorrer seria a mesma que a probabilidade da frase _\"uma Ciência de ontem assisti aula uma Dados dos\"_. <br>\n",
    "Portanto, a falta de considerar a dependência das palavras deixa o classificador menos competente para aceitar mais palavras na base de treinamento, porque aumentaria o retorno de probabilidades incertas, deixando o classificador mais impreciso e afetando negativamente a acurácia.\n",
    "\n",
    "\n",
    "#### Projeto de Expansão e melhorias no classificador\n",
    "Dada a ingenuidade do classficador construído, como uma melhoria poderia ocorrer a substituição do modelo Naive Bayes por um modelo de classficação mais preciso(como os modelos explicados nesse link: [Turing Talks](https://medium.com/turing-talks/turing-talks-10-introdu%C3%A7%C3%A3o-%C3%A0-predi%C3%A7%C3%A3o-a75cd61c268d#:~:text=Existem%20diversos%20modelos%20de%20predi%C3%A7%C3%A3o%20%28regress%C3%A3o%20linear%2C%20SVM%2C,se%20possui%20e%20do%20problema%20a%20ser%20resolvido.). <br>\n",
    "    Também existe a possibilidade de melhorar o classificador atual ao combiná-lo com um modelo de predição que leva em consideração a dependência entre as palavras, possibilitando atingir resultados melhores através do classificador ( melhoria explicitada nesse artigo científico: [Artigo](https://www.cos.ufrj.br/~ines/enia07_html/pdf/28095.pdf). <br>\n",
    "    Além disso, as categorias do Target utilizado também poderiam ser melhoradas, principalmente por meio da divisão da categoria 'positivo' e 'negativo' em subcategorias mais especificas sobre qual área a notícia faz referência. Sendo um exemplo dessas possíveis subcategorias: 'Financeiro', 'Marketing', 'Operacional'. <br>\n",
    "    Por fim, uma melhoria como o aumento da base de dados resultaria em uma classificação mais precisa por parte do classificador, que teria contato com mais palavras diferentes, assim como uma maior amostra de notícias que serviriam como base para a construção do modelo.<br>\n",
    "    Dessa forma, o projeto deveria continuar a ser financiado, possibilitando que o classificador seja aperfeiçoado e gere melhores resultados a partir das melhorias que foram propostas. Já que com um melhor classificador a empresa conseguiria ter um visão geral mais aprofundada da sua atuação no cenário externo, assim como analisar aspectos negativos que foram ressaltados por veículos de notícia e que poderiam ser melhorados.\n",
    "\n",
    "\n",
    "#### Proposta do classificador em outros contextos:\n",
    "Esse tipo de classificador demonstra imprecisão ao tratar sequencias de palavras, por conta de sua ingenuidade de não reconhecer a dependência entre elas. Porém, ao tratar palavras-chaves, o classificador possuiria grande probabilidade de eficácia. <br>\n",
    "Uma das possíveis aplicações, seriam plataformas de streaming e video, ou até mesmo sites de compra, através da análise das palavras mais digitadas e procuradas pelo usuário e posteriormente a recomendação de vídeos relacionados ou direcionamento das lojas que vendem produtos parecidos com os que foram procurados anteriormente.\n"
   ]
  },
  {
   "cell_type": "markdown",
   "metadata": {},
   "source": [
    "___\n",
    "# Análise do classificador através de novas separações das notícias entre treinamento e teste"
   ]
  },
  {
   "cell_type": "markdown",
   "metadata": {},
   "source": [
    "## Juntando os Dataframes de treino e de teste para separá-los aleatóriamente"
   ]
  },
  {
   "cell_type": "code",
   "execution_count": 152,
   "metadata": {},
   "outputs": [],
   "source": [
    "novo_test = pd.read_excel(filename, sheet_name = 'Teste')\n",
    "\n",
    "novo_train = pd.read_excel(filename, sheet_name = 'Treinamento')\n",
    "\n",
    "total = pd.concat([novo_test,novo_train])\n",
    "dataframe_total = pd.DataFrame(total)"
   ]
  },
  {
   "cell_type": "markdown",
   "metadata": {},
   "source": [
    "## Análise com uma repetição de 100 vezes"
   ]
  },
  {
   "cell_type": "code",
   "execution_count": 153,
   "metadata": {},
   "outputs": [],
   "source": [
    "lista_eficacia = []\n",
    "\n",
    "for i in range(100):\n",
    "    train2,test2 = train_test_split(total, test_size=300)\n",
    "    \n",
    "    train_positivo = train2.loc[train2['Target']==2,:]\n",
    "    train_neutro = train2.loc[train2['Target']==1,:]\n",
    "    train_negativo = train2.loc[train2['Target']==0,:]\n",
    "    \n",
    "    titulos_positivos = list(train_positivo['Titulo'])\n",
    "    titulos_neutros = list(train_neutro['Titulo'])\n",
    "    titulos_negativos = list(train_negativo['Titulo'])\n",
    "    \n",
    "    \n",
    "    palavrastitulos_positivos = stopwords(' '.join(titulos_positivos).split())\n",
    "    palavrastitulos_neutros = stopwords(' '.join(titulos_neutros).split())\n",
    "    palavrastitulos_negativos = stopwords(' '.join(titulos_negativos).split())\n",
    "    \n",
    "    titulos_totais = palavrastitulos_negativos + palavrastitulos_positivos + palavrastitulos_neutros\n",
    "    \n",
    "    seriepositiva = pd.Series(palavrastitulos_positivos)\n",
    "    serieneutra = pd.Series(palavrastitulos_neutros)\n",
    "    serienegativa = pd.Series(palavrastitulos_negativos)\n",
    "    \n",
    "    serie_total = pd.Series(titulos_totais)\n",
    "    \n",
    "    tabela_p_abs_2 = seriepositiva.value_counts()\n",
    "    tabela_n_abs_2 = serieneutra.value_counts()\n",
    "    tabela_neg_abs_2 = serienegativa.value_counts()\n",
    "    \n",
    "    tabela_total_2 = serie_total.value_counts()\n",
    "    \n",
    "    #prob priori\n",
    "    prob_p2 = len(palavrastitulos_positivos) / len(titulos_totais)\n",
    "    prob_n2 = len(palavrastitulos_neutros) / len(titulos_totais)\n",
    "    prob_neg2 = len(palavrastitulos_negativos) / len(titulos_totais)\n",
    "    \n",
    "\n",
    "\n",
    "    def classificador2(test):\n",
    "\n",
    "        lista_classificacao = []\n",
    "        \n",
    "        for noticia in test.Titulo:\n",
    "\n",
    "            noticia = cleanup(noticia)\n",
    "            palavras = stopwords(noticia.split())\n",
    "\n",
    "            prob_p_dado_noticia2 = 1\n",
    "            prob_n_dado_noticia2 = 1\n",
    "            prob_neg_dado_noticia2 = 1\n",
    "            \n",
    "            for palavra in palavras:\n",
    "                \n",
    "                prob_p_dado_noticia2 = prob_p_dado_noticia2 * laplace(palavra, tabela_p_abs_2, tabela_total_2)\n",
    "                prob_n_dado_noticia2 = prob_n_dado_noticia2 * laplace(palavra, tabela_n_abs_2, tabela_total_2)\n",
    "                prob_neg_dado_noticia2 = prob_neg_dado_noticia2 * laplace(palavra, tabela_neg_abs_2, tabela_total_2)\n",
    "                \n",
    "                \n",
    "            \n",
    "            prob_p_dado_noticia2 *= prob_p2\n",
    "            prob_n_dado_noticia2 *= prob_n2  \n",
    "            prob_neg_dado_noticia2 *= prob_neg2\n",
    "\n",
    "            if prob_neg_dado_noticia2 > prob_n_dado_noticia2 and prob_neg_dado_noticia2 > prob_p_dado_noticia2:\n",
    "                lista_classificacao.append('Negativo')\n",
    "            elif prob_n_dado_noticia2 > prob_neg_dado_noticia2 and prob_n_dado_noticia2 > prob_p_dado_noticia2:\n",
    "                lista_classificacao.append('Neutro')\n",
    "            elif prob_p_dado_noticia2 > prob_neg_dado_noticia2 and prob_p_dado_noticia2 > prob_n_dado_noticia2:\n",
    "                lista_classificacao.append('Positivo')\n",
    "            \n",
    "\n",
    "        test['Classificado'] = lista_classificacao\n",
    "        \n",
    "        return test\n",
    "    \n",
    "    resultado2 = classificador2(test2)\n",
    "    \n",
    "    tabela2 = pd.crosstab(resultado2['Target'], resultado2['Classificado'])\n",
    "    \n",
    "    efic_titulo2 = (tabela2.iloc[0,0] + tabela2.iloc[1,1] + tabela2.iloc[2,2])*100 / len(resultado2)\n",
    "    \n",
    "    lista_eficacia.append(efic_titulo2)\n",
    "    "
   ]
  },
  {
   "cell_type": "markdown",
   "metadata": {},
   "source": [
    "## Porcentagem da eficácia:"
   ]
  },
  {
   "cell_type": "code",
   "execution_count": 154,
   "metadata": {
    "scrolled": false
   },
   "outputs": [
    {
     "name": "stdout",
     "output_type": "stream",
     "text": [
      "A menor acurácia foi de 44.33% \n",
      "\n",
      "A maior acurácia foi de 55.33% \n",
      "\n",
      "A média de acurácia foi de 50.00% \n",
      "\n"
     ]
    }
   ],
   "source": [
    "lista_eficacia = pd.Series(lista_eficacia)\n",
    "print('A menor acurácia foi de {:.2f}% \\n'.format(lista_eficacia.min()))\n",
    "print('A maior acurácia foi de {:.2f}% \\n'.format(lista_eficacia.max()))\n",
    "print('A média de acurácia foi de {:.2f}% \\n'.format(lista_eficacia.mean()))"
   ]
  },
  {
   "cell_type": "markdown",
   "metadata": {},
   "source": [
    "## Histograma da eficácia:"
   ]
  },
  {
   "cell_type": "code",
   "execution_count": 155,
   "metadata": {},
   "outputs": [
    {
     "data": {
      "image/png": "[encoded data removed]",
      "text/plain": [
       "<Figure size 432x288 with 1 Axes>"
      ]
     },
     "metadata": {
      "needs_background": "light"
     },
     "output_type": "display_data"
    }
   ],
   "source": [
    "faixa1 = np.arange(42, 60, 1)\n",
    "plt.hist(lista_eficacia, bins=faixa1, edgecolor='black', color = 'green', density = True)\n",
    "plt.title('Eficácia do modelo')\n",
    "plt.ylabel('Faixa')\n",
    "plt.xlabel('Porcentagem de acerto(%)')\n",
    "plt.show()"
   ]
  },
  {
   "cell_type": "markdown",
   "metadata": {},
   "source": [
    "\n",
    "### Conclusão sobre o gráfico:"
   ]
  },
  {
   "cell_type": "markdown",
   "metadata": {},
   "source": [
    "O histograma demonstra uma certa variabilidade das probabilidades de acerto, essa variação ocorre em torno de 11% da menor para a maior porcentagem. O que demonstra essa variação é a base fixa de treinamento que faz com que haja um padrão na classificação. Ou seja, se existisse maiores repartições da base de dados, os dados obtidos seriam mais próximos e a variação seria menor, tornando o desempenho do classificador mais eficiente.\n",
    "Porém, ainda assim, a menor porcentagem de acerto (44%) é maior que o valor de chute (33,3%) entre um dos 3 targets, o que demonstra que mesmo havendo uma variação entre o maior e o menor valor, o modelo não deixa de ser satisfatório."
   ]
  },
  {
   "cell_type": "markdown",
   "metadata": {},
   "source": [
    "___\n",
    "## Aperfeiçoamento:\n",
    "\n",
    "Trabalhos que conseguirem pelo menos conceito B vão evoluir em conceito dependendo da quantidade de itens avançados:\n",
    "\n",
    "* IMPLEMENTOU outras limpezas e transformações que não afetem a qualidade da informação contida nas notícias. Ex: stemming, lemmatization, stopwords\n",
    "* CONSIDEROU mais de duas caterogias na variável Target e INCREMENTOU a quantidade de notícias, mantendo pelo menos 250 notícias por caterogia (OBRIGATÓRIO PARA TRIOS, sem contar como item avançado)\n",
    "* Para Target com duas categorias: CRIOU pelo menos quatro categorias intermediárias de relevância baseadas na probabilidade: ex.: muito relevante, relevante, neutro, irrelevante, muito irrelevante\n",
    "* EXPLICOU porquê não pode usar o próprio classificador para gerar mais amostras de treinamento\n",
    "* PROPÔS diferentes cenários para Naïve Bayes fora do contexto do projeto (pelo menos dois cenários, exceto aqueles já apresentados em sala pelos professores: por exemplo, filtro de spam)\n",
    "* SUGERIU e EXPLICOU melhorias reais com indicações concretas de como implementar (indicar como fazer e indicar material de pesquisa)\n",
    "* FEZ o item Qualidade do Classificador a partir de novas separações das Notícias entre Treinamento e Teste descrito no enunciado do projeto (OBRIGATÓRIO para conceitos A ou A+)"
   ]
  },
  {
   "cell_type": "markdown",
   "metadata": {},
   "source": [
    "___\n",
    "## Referências"
   ]
  },
  {
   "cell_type": "markdown",
   "metadata": {},
   "source": [
    "[Naive Bayes and Text Classification](https://arxiv.org/pdf/1410.5329.pdf)  **Mais completo**\n",
    "\n",
    "[A practical explanation of a Naive Bayes Classifier](https://monkeylearn.com/blog/practical-explanation-naive-bayes-classifier/) **Mais simples**\n",
    "\n",
    "[Sklearn Model Selection](https://scikit-learn.org/stable/modules/generated/sklearn.model_selection.train_test_split.html)\n",
    "\n",
    "[Desabilitar Alertas no Jupyter Notebook](https://estatsite.com.br/2020/01/19/desabilitar-alertas-no-jupyter-notebook/)"
   ]
  },
  {
   "cell_type": "code",
   "execution_count": null,
   "metadata": {},
   "outputs": [],
   "source": []
  }
 ],
 "metadata": {
  "kernelspec": {
   "display_name": "Python 3",
   "language": "python",
   "name": "python3"
  },
  "language_info": {
   "codemirror_mode": {
    "name": "ipython",
    "version": 3
   },
   "file_extension": ".py",
   "mimetype": "text/x-python",
   "name": "python",
   "nbconvert_exporter": "python",
   "pygments_lexer": "ipython3",
   "version": "3.8.8"
  }
 },
 "nbformat": 4,
 "nbformat_minor": 4
}
